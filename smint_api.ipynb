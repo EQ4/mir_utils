{
 "cells": [
  {
   "cell_type": "markdown",
   "metadata": {},
   "source": [
    "# Search by Sound SMINT API Tutorial\n",
    "    \n",
    "### by Thomas Lidy \n",
    "\n",
    "This tutorial shows how to use the Search by Sound system using SMINT REST API.\n",
    "\n",
    "### The API endpoint is: http://musicbricks.ifs.tuwien.ac.at/smintapi/\n",
    "\n",
    "### The Info page is here: http://ifs.tuwien.ac.at/mir/musicbricks/\n",
    "\n",
    "The complete API reference is here: http://ifs.tuwien.ac.at/mir/musicbricks/SMINT/SMINT-API-Documentation_v1.1.1c-SbS-rel1.3.pdf"
   ]
  },
  {
   "cell_type": "markdown",
   "metadata": {},
   "source": [
    "### Pre-Requisites:\n",
    "\n",
    "urllib and httplib2 installed:"
   ]
  },
  {
   "cell_type": "code",
   "execution_count": null,
   "metadata": {
    "collapsed": true
   },
   "outputs": [],
   "source": [
    "# in Terminal\n",
    "sudo pip install urllib httplib2"
   ]
  },
  {
   "cell_type": "markdown",
   "metadata": {},
   "source": [
    "### Python Code:"
   ]
  },
  {
   "cell_type": "code",
   "execution_count": 2,
   "metadata": {
    "collapsed": false
   },
   "outputs": [],
   "source": [
    "import urllib, httplib2\n"
   ]
  },
  {
   "cell_type": "code",
   "execution_count": 3,
   "metadata": {
    "collapsed": false
   },
   "outputs": [],
   "source": [
    "h = httplib2.Http(\".cache\")\n",
    "#h.add_credentials(\"user\", \"******\", \"https://api.github.com\")\n",
    "\n",
    "#data = urllib.urlencode({\"name\":\"test\"})\n",
    "#resp, content = h.request(github_url, \"POST\", data)"
   ]
  },
  {
   "cell_type": "code",
   "execution_count": 5,
   "metadata": {
    "collapsed": false
   },
   "outputs": [],
   "source": [
    "# we need to set the headers to accept xml\n",
    "headers={\"Accept\": \"application/xml\"}"
   ]
  },
  {
   "cell_type": "code",
   "execution_count": 6,
   "metadata": {
    "collapsed": false
   },
   "outputs": [
    {
     "name": "stdout",
     "output_type": "stream",
     "text": [
      "200\n",
      "<?xml version=\"1.0\" encoding=\"UTF-8\"?>\n",
      "<smint><version major=\"1\" minor=\"3\" revision=\"999\"/></smint>\n",
      "\n"
     ]
    }
   ],
   "source": [
    "\n",
    "url = \"http://musicbricks.ifs.tuwien.ac.at/smintapi/version\"\n",
    "resp, content = h.request(url, \"GET\", headers=headers)\n",
    "\n",
    "#print resp\n",
    "print resp.status\n",
    "print content"
   ]
  },
  {
   "cell_type": "code",
   "execution_count": 12,
   "metadata": {
    "collapsed": false
   },
   "outputs": [
    {
     "name": "stdout",
     "output_type": "stream",
     "text": [
      "200\n",
      "<?xml version=\"1.0\" encoding=\"UTF-8\"?>\n",
      "<smint><query id=\"5d0da180b9ff948a31da49f76680b85d\" collection=\"_d\"><result id=\"1001cf76cac651793a3df06188172f6d\"/><result id=\"6ae495f05f58ebba11d34c107d07bf5d\"/><result id=\"868816b234d02d363d748312d2980537\"/><result id=\"c8673a26ac9f7201999570b03989b1f0\"/><result id=\"2a6392be78e6d3934e6c8fbb6a39665d\"/><result id=\"dc6e892b25e8908defa9603266b22bd4\"/><result id=\"92ac25b604036177394a45d7c37a7916\"/><result id=\"947d00fe937e6de9eb39b13606d34fab\"/></query></smint>\n",
      "\n"
     ]
    }
   ],
   "source": [
    "url = \"http://musicbricks.ifs.tuwien.ac.at/smintapi/track/5d0da180b9ff948a31da49f76680b85d\"\n",
    "resp, content = h.request(url, \"GET\", headers=headers)\n",
    "\n",
    "#print resp\n",
    "print resp.status\n",
    "print content"
   ]
  },
  {
   "cell_type": "code",
   "execution_count": 14,
   "metadata": {
    "collapsed": false
   },
   "outputs": [
    {
     "name": "stdout",
     "output_type": "stream",
     "text": [
      "200\n",
      "<?xml version=\"1.0\" encoding=\"UTF-8\"?>\n",
      "<smint><query id=\"5d0da180b9ff948a31da49f76680b85d\" collection=\"_d\"><result id=\"1001cf76cac651793a3df06188172f6d\" value=\"105.257261\"/><result id=\"6ae495f05f58ebba11d34c107d07bf5d\" value=\"105.257261\"/><result id=\"868816b234d02d363d748312d2980537\" value=\"105.257261\"/><result id=\"c8673a26ac9f7201999570b03989b1f0\" value=\"105.257261\"/><result id=\"2a6392be78e6d3934e6c8fbb6a39665d\" value=\"105.257261\"/><result id=\"dc6e892b25e8908defa9603266b22bd4\" value=\"120.673364\"/><result id=\"92ac25b604036177394a45d7c37a7916\" value=\"679.496076\"/><result id=\"947d00fe937e6de9eb39b13606d34fab\" value=\"773.475249\"/></query></smint>\n",
      "\n"
     ]
    }
   ],
   "source": [
    "\n",
    "url = \"http://musicbricks.ifs.tuwien.ac.at/smintapi/track/5d0da180b9ff948a31da49f76680b85d?count=10&distance_values=true\"\n",
    "resp, content = h.request(url, \"GET\", headers=headers)\n",
    "\n",
    "print resp.status\n",
    "print content"
   ]
  },
  {
   "cell_type": "markdown",
   "metadata": {},
   "source": [
    "### Add a Track:"
   ]
  },
  {
   "cell_type": "code",
   "execution_count": 28,
   "metadata": {
    "collapsed": false
   },
   "outputs": [
    {
     "name": "stdout",
     "output_type": "stream",
     "text": [
      "external_key=mykey1234&url=http%3A%2F%2Fwww.soundpark.at%2Fmp3%2F2005-07%2Fmoped2067_fight_your_fight_137691.mp3\n",
      "url=http%3A%2F%2Fwww.soundpark.at%2Fmp3%2F2005-07%2Fmoped2067_fight_your_fight_137691.mp3&external_key=mykey1234\n",
      "200\n",
      "<?xml version=\"1.0\" encoding=\"UTF-8\"?>\n",
      "<smint><track_added smint_track_id=\"843142308553a5ebaa60270.00729027\" url=\"http://www.soundpark.at/mp3/2005-07/moped2067_fight_your_fight_137691.mp3\" file=\"/tmp/smafe_ymrnKI_moped2067_fight_your_fight_137691.mp3\" external_key=\"mykey1234\"/></smint>\n",
      "\n"
     ]
    }
   ],
   "source": [
    "# add http://www.soundpark.at/mp3/2005-07/moped2067_fight_your_fight_137691.mp3\n",
    "\n",
    "# curl -H \"Accept: application/xml\" -d \"external_key=mykey1234&url=http%3A%2F%2Fwww.soundpark.at%2Fmp3%2F2005-07%2Fmoped2067_fight_your_fight_137691.mp3\" http://localhost/smintapi/track/add/\n",
    "\n",
    "url = \"http://musicbricks.ifs.tuwien.ac.at/smintapi/track/add\"\n",
    "body= \"external_key=mykey1234&url=http%3A%2F%2Fwww.soundpark.at%2Fmp3%2F2005-07%2Fmoped2067_fight_your_fight_137691.mp3\"\n",
    "print body\n",
    "\n",
    "data = {'external_key': 'mykey1234', 'url': 'http://www.soundpark.at/mp3/2005-07/moped2067_fight_your_fight_137691.mp3'}\n",
    "body = urllib.urlencode(data)\n",
    "print body\n",
    "\n",
    "#url = \"%s?%s\" %(url,body)\n",
    "\n",
    "#mp3= open('/home/lidy/Musik/Lamb_-_Wise_Enough.mp3', 'rb')\n",
    "\n",
    "resp, content = h.request(url, \"PUT\", headers=headers, body=body) # Note: does not work with POST\n",
    "\n",
    "print resp.status\n",
    "print content\n"
   ]
  },
  {
   "cell_type": "code",
   "execution_count": 18,
   "metadata": {
    "collapsed": false
   },
   "outputs": [
    {
     "data": {
      "text/plain": [
       "'http://musicbricks.ifs.tuwien.ac.at/smintapi/track/add?external_key=mykey1234&url=http%3A%2F%2Fwww.soundpark.at%2Fmp3%2F2005-07%2Fmoped2067_fight_your_fight_137691.mp3'"
      ]
     },
     "execution_count": 18,
     "metadata": {},
     "output_type": "execute_result"
    }
   ],
   "source": [
    "url"
   ]
  },
  {
   "cell_type": "code",
   "execution_count": 15,
   "metadata": {
    "collapsed": false
   },
   "outputs": [
    {
     "name": "stdout",
     "output_type": "stream",
     "text": [
      "Help on method request in module httplib2:\n",
      "\n",
      "request(self, uri, method='GET', body=None, headers=None, redirections=5, connection_type=None) method of httplib2.Http instance\n",
      "    Performs a single HTTP request.\n",
      "    \n",
      "    The 'uri' is the URI of the HTTP resource and can begin with either\n",
      "    'http' or 'https'. The value of 'uri' must be an absolute URI.\n",
      "    \n",
      "    The 'method' is the HTTP method to perform, such as GET, POST, DELETE,\n",
      "    etc. There is no restriction on the methods allowed.\n",
      "    \n",
      "    The 'body' is the entity body to be sent with the request. It is a\n",
      "    string object.\n",
      "    \n",
      "    Any extra headers that are to be sent with the request should be\n",
      "    provided in the 'headers' dictionary.\n",
      "    \n",
      "    The maximum number of redirect to follow before raising an\n",
      "    exception is 'redirections. The default is 5.\n",
      "    \n",
      "    The return value is a tuple of (response, content), the first\n",
      "    being and instance of the 'Response' class, the second being\n",
      "    a string that contains the response entity body.\n",
      "\n"
     ]
    }
   ],
   "source": [
    "help(h.request)"
   ]
  },
  {
   "cell_type": "code",
   "execution_count": 23,
   "metadata": {
    "collapsed": false
   },
   "outputs": [
    {
     "data": {
      "text/plain": [
       "'url=http%3A%2F%2Fwww.soundpark.at%2Fmp3%2F2005-07%2Fmoped2067_fight_your_fight_137691.mp3&external_key=mykey1234'"
      ]
     },
     "execution_count": 23,
     "metadata": {},
     "output_type": "execute_result"
    }
   ],
   "source": [
    "# Example with URL encode\n",
    "\n",
    "\n"
   ]
  }
 ],
 "metadata": {
  "kernelspec": {
   "display_name": "Python 2",
   "language": "python",
   "name": "python2"
  },
  "language_info": {
   "codemirror_mode": {
    "name": "ipython",
    "version": 2
   },
   "file_extension": ".py",
   "mimetype": "text/x-python",
   "name": "python",
   "nbconvert_exporter": "python",
   "pygments_lexer": "ipython2",
   "version": "2.7.6"
  }
 },
 "nbformat": 4,
 "nbformat_minor": 0
}
